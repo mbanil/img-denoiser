{
 "cells": [
  {
   "cell_type": "code",
   "execution_count": 1,
   "source": [
    "import matplotlib.pyplot as plt\r\n",
    "import numpy as np\r\n",
    "from time import time\r\n",
    "import cProfile\r\n",
    "import io\r\n",
    "import pstats\r\n",
    "import plotly\r\n",
    "import plotly.express as px\r\n",
    "\r\n",
    "from src import helperfuncs\r\n",
    "# from src import classify\r\n",
    "from src_conv import classify_conv as classify\r\n",
    "from src import cluster\r\n",
    "from src_conv import forwardPass\r\n",
    "\r\n",
    "\r\n",
    "folderPath = 'C:/My Documents/TUD-MCL/Semester 4/Thesis/Implementation/Data/Dataset-2/' # Maxime/' #sample 2/'\r\n",
    "# folderPath = 'C:/My Documents/TUD-MCL/Semester 4/Thesis/Implementation/Data/Dataset-1/' \r\n",
    "# imgName = '18_04_27_Thomas_28618_0017.dm3'\r\n",
    "imgName = 'Stack_zeolite4NaAF__111_001_1-10.tif'\r\n",
    "rerun = 5\r\n",
    "radius = 23\r\n",
    "\r\n",
    "start = time()\r\n",
    "\r\n",
    "startPosList= [[25,150],[75,250]]\r\n",
    "\r\n",
    "load_start = time()\r\n",
    "imgs = helperfuncs.loadData(folderPath=folderPath, fileName=imgName)\r\n",
    "load_end = time()\r\n",
    "print(f'Time for loading: {load_end - load_start} seconds!')\r\n",
    "\r\n",
    "NumMainclasses=4\r\n",
    "MinNumberInClass=4\r\n",
    "# MaxNumberInClass=100\r\n",
    "MaxNumberInClass=100*int(np.ceil(np.sqrt(len(imgs))))"
   ],
   "outputs": [
    {
     "output_type": "stream",
     "name": "stderr",
     "text": [
      "WARNING:hyperspy.api:The ipywidgets GUI elements are not available, probably because the hyperspy_gui_ipywidgets package is not installed.\n",
      "WARNING:hyperspy.api:The traitsui GUI elements are not available, probably because the hyperspy_gui_traitsui package is not installed.\n"
     ]
    },
    {
     "output_type": "stream",
     "name": "stdout",
     "text": [
      "Time for loading: 0.12492179870605469 seconds!\n"
     ]
    }
   ],
   "metadata": {}
  },
  {
   "cell_type": "code",
   "execution_count": 2,
   "source": [
    "gen_start = time()\r\n",
    "templates = helperfuncs.generateTemplates(startPosList=startPosList, imgs=imgs, radius=radius)\r\n",
    "templates = helperfuncs.findDissimilarTemplates(templates = templates, imgs = imgs, radius = radius, minTemplateClasses = NumMainclasses)\r\n",
    "gen_end = time()\r\n",
    "print(f'Time for generating basic templates: {gen_end - gen_start} seconds!')\r\n"
   ],
   "outputs": [
    {
     "output_type": "stream",
     "name": "stdout",
     "text": [
      "Time for generating basic templates: 1.1792969703674316 seconds!\n"
     ]
    }
   ],
   "metadata": {}
  },
  {
   "cell_type": "code",
   "execution_count": 3,
   "source": [
    "rerun_ = rerun\r\n",
    "classsify_start = time()\r\n",
    "while rerun>0:\r\n",
    "    templates = classify.tempfuncname(radius=radius, imgs=imgs, templates=templates, maxNumberInClass=MaxNumberInClass, minNumberInClass=MinNumberInClass)\r\n",
    "    rerun-=1\r\n",
    "classify_end = time()"
   ],
   "outputs": [
    {
     "output_type": "stream",
     "name": "stdout",
     "text": [
      "1.9.1+cpu\n"
     ]
    }
   ],
   "metadata": {}
  },
  {
   "cell_type": "code",
   "execution_count": null,
   "source": [
    "backplot_start = time()\r\n",
    "backplot, min, max, templateMatchingResults = classify.backplotImg(radius, imgs, templates)\r\n",
    "backplot_end = time()\r\n",
    "print(f'Time for backplotting-1 : {backplot_end - backplot_start} seconds!')\r\n",
    "\r\n",
    "\r\n",
    "\r\n",
    "for i in range(len(imgs)):\r\n",
    "    plt.figure(figsize=(2*15, 2*7)) \r\n",
    "    ax1=plt.subplot(1,2,1)                    \r\n",
    "    ax1.imshow(backplot[i][radius:-radius,radius:-radius],cmap=plt.cm.gray,vmin=min[i],vmax=max[i])\r\n",
    "    ax1.set_title('backplot')\r\n",
    "    ax1.axis('off')\r\n",
    "    ax2=plt.subplot(1,2,2)                    \r\n",
    "    ax2.imshow(imgs[i][radius:-radius,radius:-radius],cmap=plt.cm.gray,vmin=min[i],vmax=max[i])\r\n",
    "    ax2.set_title('original image')\r\n",
    "    ax2.axis('off')\r\n",
    "    #plt.figure(figsize=(15, 12))  \r\n",
    "    #plt.imshow(overlayclass[Mode][myindex],cmap=plt.cm.gist_rainbow)\r\n",
    "    #plt.colorbar()\r\n",
    "    # plt.show()\r\n",
    "\r\n",
    "sort_start = time()\r\n",
    "picDic = cluster.sortTemplates(imgs, templateMatchingResults, radius, templates)\r\n",
    "sort_end = time()\r\n",
    "print(f'Time for sort : {sort_end - sort_start} seconds!')\r\n",
    "\r\n",
    "templateClassesMap = np.zeros((imgs[0].shape[0], imgs[0].shape[1]))\r\n",
    "i=1\r\n",
    "for pic in picDic:\r\n",
    "    for p in pic:\r\n",
    "        templateClassesMap[p[\"xIndex\"]:p[\"xIndex\"]+10,p[\"yIndex\"]:p[\"yIndex\"]+10]=i\r\n",
    "    i+=1\r\n",
    "fig = px.imshow(templateClassesMap, color_continuous_scale=px.colors.qualitative.Alphabet)\r\n",
    "plotly.offline.plot(fig, filename='./charts/'+imgName+'-convtemplateClasses.html')\r\n",
    "\r\n",
    "\r\n",
    "cluster_start = time()\r\n",
    "centroidDic = cluster.cluster(radius, templates, picDic)\r\n",
    "cluster_end = time()\r\n",
    "print(f'Time for clustering : {cluster_end - cluster_start} seconds!')\r\n",
    "\r\n",
    "backplot_start = time()\r\n",
    "backplotFinal, min, max, overlayVariance = cluster.backplotFinal(centroidDic, picDic, imgs, radius, templateMatchingResults)    \r\n",
    "backplot_end = time()\r\n",
    "print(f'Time for backplotting-2 : {backplot_end - backplot_start} seconds!')\r\n",
    "\r\n",
    "for i in range(len(imgs)):\r\n",
    "    plt.figure(figsize=(2*15, 2*7)) \r\n",
    "    ax1=plt.subplot(1,2,1)                    \r\n",
    "    ax1.imshow(backplotFinal[i][radius:-radius,radius:-radius],cmap=plt.cm.gray,vmin=min[i],vmax=max[i])\r\n",
    "    ax1.set_title('backplot')\r\n",
    "    ax1.axis('off')\r\n",
    "    ax2=plt.subplot(1,2,2)                    \r\n",
    "    ax2.imshow(imgs[i][radius:-radius,radius:-radius],cmap=plt.cm.gray,vmin=min[i],vmax=max[i])\r\n",
    "    ax2.set_title('original image')\r\n",
    "    ax2.axis('off')\r\n",
    "    #plt.figure(figsize=(15, 12))  \r\n",
    "    #plt.imshow(overlayclass[Mode][myindex],cmap=plt.cm.gist_rainbow)\r\n",
    "    #plt.colorbar()\r\n",
    "    # plt.show()\r\n",
    "\r\n",
    "plt.savefig('C:/My Documents/TUD-MCL/Semester 4/Thesis/repo/img-denoiser/results/convTemp'+imgName+'-denoised.png')    \r\n",
    "\r\n",
    "end = time()\r\n",
    "print(f'Total time: {end - start} seconds!')\r\n",
    "\r\n",
    "plt.figure(figsize=(20,20))\r\n",
    "\r\n",
    "\r\n",
    "\r\n",
    "img = np.log(np.abs(np.fft.fftshift(np.fft.fft2(imgs[0][radius:-radius,radius:-radius]))))\r\n",
    "ax1=plt.subplot(1,2,1)\r\n",
    "ax1.imshow(img,cmap='gray')\r\n",
    "ax1.axis('off')\r\n",
    "ax1.set_title('FFT of original image')\r\n",
    "img = np.log(np.abs(np.fft.fftshift(np.fft.fft2(backplotFinal[0][radius:-radius,radius:-radius]))))\r\n",
    "ax1=plt.subplot(1,2,2)\r\n",
    "ax1.imshow(img,cmap='gray')\r\n",
    "ax1.axis('off')\r\n",
    "ax1.set_title('FFT of denoised image in')\r\n",
    "plt.show()\r\n"
   ],
   "outputs": [],
   "metadata": {}
  }
 ],
 "metadata": {
  "orig_nbformat": 4,
  "language_info": {
   "name": "python",
   "version": "3.6.13",
   "mimetype": "text/x-python",
   "codemirror_mode": {
    "name": "ipython",
    "version": 3
   },
   "pygments_lexer": "ipython3",
   "nbconvert_exporter": "python",
   "file_extension": ".py"
  },
  "kernelspec": {
   "name": "python3",
   "display_name": "Python 3.6.13 64-bit ('denoiser': conda)"
  },
  "interpreter": {
   "hash": "233998311e19f4d832b197788d1665c375c3516471b99337b9022858861fc226"
  }
 },
 "nbformat": 4,
 "nbformat_minor": 2
}